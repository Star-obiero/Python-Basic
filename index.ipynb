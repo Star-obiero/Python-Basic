{
 "cells": [
  {
   "cell_type": "code",
   "execution_count": null,
   "metadata": {},
   "outputs": [
    {
     "name": "stdout",
     "output_type": "stream",
     "text": [
      "42\n"
     ]
    }
   ],
   "source": [
    "number=42\n",
    "print(number)"
   ]
  },
  {
   "cell_type": "code",
   "execution_count": 1,
   "metadata": {},
   "outputs": [
    {
     "name": "stdout",
     "output_type": "stream",
     "text": [
      "Change things\n"
     ]
    }
   ],
   "source": [
    "flatiron_mentra='Change things'\n",
    "print(flatiron_mentra)"
   ]
  },
  {
   "cell_type": "code",
   "execution_count": null,
   "metadata": {},
   "outputs": [
    {
     "ename": "NameError",
     "evalue": "name 'quantity' is not defined",
     "output_type": "error",
     "traceback": [
      "\u001b[31m---------------------------------------------------------------------------\u001b[39m",
      "\u001b[31mNameError\u001b[39m                                 Traceback (most recent call last)",
      "\u001b[36mCell\u001b[39m\u001b[36m \u001b[39m\u001b[32mIn[3]\u001b[39m\u001b[32m, line 7\u001b[39m\n\u001b[32m      1\u001b[39m stock={\n\u001b[32m      2\u001b[39m     \u001b[33m\"\u001b[39m\u001b[33msoap\u001b[39m\u001b[33m\"\u001b[39m:\u001b[32m12\u001b[39m,\n\u001b[32m      3\u001b[39m     \u001b[33m\"\u001b[39m\u001b[33msugar\u001b[39m\u001b[33m\"\u001b[39m:\u001b[32m14\u001b[39m,\n\u001b[32m      4\u001b[39m     \u001b[33m\"\u001b[39m\u001b[33mmilk\u001b[39m\u001b[33m\"\u001b[39m:\u001b[32m23\u001b[39m\n\u001b[32m      5\u001b[39m }\n\u001b[32m      6\u001b[39m quqntity=[]\n\u001b[32m----> \u001b[39m\u001b[32m7\u001b[39m goods=\u001b[38;5;28mint\u001b[39m(\u001b[38;5;28minput\u001b[39m(\u001b[33mf\u001b[39m\u001b[33m\"\u001b[39m\u001b[33mEnter the product you\u001b[39m\u001b[38;5;132;01m{\u001b[39;00m\u001b[43mquantity\u001b[49m\u001b[38;5;132;01m}\u001b[39;00m\u001b[33m need\u001b[39m\u001b[33m\"\u001b[39m))\n\u001b[32m      9\u001b[39m \u001b[38;5;28;01mif\u001b[39;00m goods \u001b[38;5;129;01min\u001b[39;00m stock \u001b[38;5;129;01mand\u001b[39;00m goods>\u001b[32m0\u001b[39m:\n\u001b[32m     10\u001b[39m     \u001b[38;5;28mprint\u001b[39m(\u001b[33mf\u001b[39m\u001b[33m'\u001b[39m\u001b[38;5;132;01m{\u001b[39;00mgoods\u001b[38;5;132;01m}\u001b[39;00m\u001b[33m is availabel proceed to payment\u001b[39m\u001b[33m'\u001b[39m)\n",
      "\u001b[31mNameError\u001b[39m: name 'quantity' is not defined"
     ]
    }
   ],
   "source": [
    "stock={\n",
    "    \"soap\":12,\n",
    "    \"sugar\":14,\n",
    "    \"milk\":23\n",
    "}\n",
    "quqntity.values=[]\n",
    "goods=int(input(f\"Enter the product you{quantity} need\"))\n",
    "\n",
    "if goods in stock and goods>0:\n",
    "    print(f'{goods} is availabel proceed to payment')\n",
    "else:\n",
    "    print('sorry,{goods} not availabel')\n"
   ]
  },
  {
   "cell_type": "markdown",
   "metadata": {},
   "source": [
    "for loop"
   ]
  },
  {
   "cell_type": "code",
   "execution_count": 9,
   "metadata": {},
   "outputs": [
    {
     "name": "stdout",
     "output_type": "stream",
     "text": [
      "Reviewing stock revenuen and estimating profit\n",
      "Estimated revenue per ietem:ksh450\n",
      "Estimated revenue per ietem:ksh800\n",
      "Estimated revenue per ietem:ksh840\n",
      "ksh2090:\n"
     ]
    }
   ],
   "source": [
    "stock={\n",
    "    \"soap\":{\"price\":150,\"quantity\":3},\n",
    "    \"sugar\":{\"price\":400,\"quantity\":2},\n",
    "    \"milk\":{\"price\":70,\"quantity\":12},\n",
    "}\n",
    "stock\n",
    "\n",
    "print(\"Reviewing stock revenuen and estimating profit\")\n",
    "total_revenue=0\n",
    "for product,data in stock.items():\n",
    "    revenue=data['price']*data['quantity']\n",
    "    print(f'Estimated revenue per ietem:ksh{revenue}')\n",
    "    total_revenue+=revenue\n",
    "\n",
    "print(f'ksh{total_revenue}:')"
   ]
  },
  {
   "cell_type": "markdown",
   "metadata": {},
   "source": [
    "Function"
   ]
  },
  {
   "cell_type": "code",
   "execution_count": 1,
   "metadata": {},
   "outputs": [],
   "source": [
    "def profit_distrbution():\n",
    "    num_workers=int(input(\"Enter your numbe\\r of workers\\n\"))\n",
    "    total_cost=float(input(\"Enter item cost\"))\n",
    "    total_sales=float(input(\"Enter you total sales\"))\n",
    "\n",
    "    profit=total_sales-total_cost\n",
    "\n",
    "    if num_workers>0:\n",
    "        pay_per_worker=profit/num_workers\n",
    "    else:\n",
    "        pay_per_worker=0\n",
    "\n",
    "    return profit,pay_per_worker\n"
   ]
  },
  {
   "cell_type": "code",
   "execution_count": 2,
   "metadata": {},
   "outputs": [
    {
     "name": "stdout",
     "output_type": "stream",
     "text": [
      "profit=ksh196000.0\n",
      "Each worker was paid ksh19.6\n"
     ]
    }
   ],
   "source": [
    "profit,pay_per_worker=profit_distrbution()\n",
    "print(f'profit=ksh{profit}')\n",
    "print(f'Each worker was paid ksh{pay_per_worker}')"
   ]
  }
 ],
 "metadata": {
  "kernelspec": {
   "display_name": "Python 3",
   "language": "python",
   "name": "python3"
  },
  "language_info": {
   "codemirror_mode": {
    "name": "ipython",
    "version": 3
   },
   "file_extension": ".py",
   "mimetype": "text/x-python",
   "name": "python",
   "nbconvert_exporter": "python",
   "pygments_lexer": "ipython3",
   "version": "3.13.2"
  }
 },
 "nbformat": 4,
 "nbformat_minor": 2
}
